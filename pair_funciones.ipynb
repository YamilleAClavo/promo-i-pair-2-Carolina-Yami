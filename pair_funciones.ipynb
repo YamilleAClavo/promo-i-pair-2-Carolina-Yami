{
 "cells": [
  {
   "cell_type": "markdown",
   "metadata": {},
   "source": [
    "## Pair programming Funciones"
   ]
  },
  {
   "cell_type": "code",
   "execution_count": 8,
   "metadata": {},
   "outputs": [
    {
     "name": "stdout",
     "output_type": "stream",
     "text": [
      "314.0\n"
     ]
    }
   ],
   "source": [
    "# Calcular el área de un círculo.\n",
    "\n",
    "# Descripción: Crea una función llamada calcular_area_circulo que tome el radio como parámetro y devuelva el área del círculo.\n",
    "\n",
    "def calcular_area_circulo (radio):\n",
    "    pi = 3.14\n",
    "\n",
    "    area = pi * (radio**2)\n",
    "    return(area)\n",
    "\n",
    "area = calcular_area_circulo(10)\n",
    "print(area)\n"
   ]
  },
  {
   "cell_type": "code",
   "execution_count": 9,
   "metadata": {},
   "outputs": [
    {
     "name": "stdout",
     "output_type": "stream",
     "text": [
      "4\n"
     ]
    }
   ],
   "source": [
    "# Contar la cantidad de caracteres en una cadena.\n",
    "\n",
    "# Descripción: Crea una función llamada contar_caracteres que tome una cadena como parámetro y devuelva la cantidad de caracteres que contiene.\n",
    "\n",
    "\n",
    "def contar_caracteres(cadena):\n",
    "    count = len(cadena)\n",
    "    return count\n",
    "\n",
    "contador = contar_caracteres('Hola')\n",
    "print(contador)\n",
    "    \n",
    "    "
   ]
  },
  {
   "cell_type": "code",
   "execution_count": 12,
   "metadata": {},
   "outputs": [
    {
     "data": {
      "text/plain": [
       "22"
      ]
     },
     "execution_count": 12,
     "metadata": {},
     "output_type": "execute_result"
    }
   ],
   "source": [
    "contar_caracteres('esternocleidomastoideo')"
   ]
  },
  {
   "cell_type": "code",
   "execution_count": null,
   "metadata": {},
   "outputs": [],
   "source": [
    "#Determinar si una cadena es un palíndromo.\n",
    "\n",
    "#Descripción: Crea una función llamada es_palindromo que tome una cadena como parámetro y devuelva True si es un palíndromo, o False si no lo es.\n",
    "\n",
    "\n",
    "def es_palindromo(cadena):\n",
    "    \n",
    "    if frase == "
   ]
  },
  {
   "cell_type": "code",
   "execution_count": null,
   "metadata": {},
   "outputs": [],
   "source": [
    "dict_letras = {}\n",
    "    for letra in frase:\n",
    "        if letra == \" \" or letra in dict_letras.keys():\n",
    "            pass\n",
    "        else:\n",
    "            dict_letras[letra] = frase.count(letra)\n",
    "            print(dict_letras)"
   ]
  },
  {
   "cell_type": "code",
   "execution_count": 23,
   "metadata": {},
   "outputs": [
    {
     "name": "stdout",
     "output_type": "stream",
     "text": [
      "['H', 'o', 'l', 'a', ' ', 'q', 'u', 'e', ' ', 't', 'a', 'l']\n",
      "None\n"
     ]
    }
   ],
   "source": [
    "separada = 'Hola que tal'\n",
    "palabra =list(separada)\n",
    "print(palabra)\n",
    "\n",
    "revers = palabra.reverse()\n",
    "print(revers)"
   ]
  },
  {
   "cell_type": "markdown",
   "metadata": {},
   "source": [
    "CLASES"
   ]
  },
  {
   "cell_type": "code",
   "execution_count": 13,
   "metadata": {},
   "outputs": [],
   "source": [
    "class Empleados:\n",
    "     def __init__(self, nombre, apellidos, edad, posición, año, vacaciones, herramientas):\n",
    "          self.nombre = nombre\n",
    "          self. apellidos = apellidos\n",
    "          self. edad = edad\n",
    "          self.posición = posición\n",
    "          self. año = año\n",
    "          self.vacaciones = vacaciones\n",
    "          self.herramientas = herramientas\n",
    "          \n",
    "          def descripcion(self, nombre, apellido, edad, posición, vacaciones):\n",
    "            empleado = self.empleado(\"Juan\", \"Pérez\", \"45\",\"Desarrollador de Software\", \"15\")\n",
    "            return f\"Empleado: {self.nombre}, Apellido: {self.apellido}, Edad: {self.edad}, Posición: {self.posicion}, Días de vacaciones restantes: {self.vacaciones}\"\n",
    "        "
   ]
  }
 ],
 "metadata": {
  "kernelspec": {
   "display_name": "base",
   "language": "python",
   "name": "python3"
  },
  "language_info": {
   "codemirror_mode": {
    "name": "ipython",
    "version": 3
   },
   "file_extension": ".py",
   "mimetype": "text/x-python",
   "name": "python",
   "nbconvert_exporter": "python",
   "pygments_lexer": "ipython3",
   "version": "3.11.7"
  }
 },
 "nbformat": 4,
 "nbformat_minor": 2
}
